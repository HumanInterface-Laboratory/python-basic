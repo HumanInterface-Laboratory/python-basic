{
  "cells": [
    {
      "cell_type": "markdown",
      "metadata": {},
      "source": [
        "# Pythonコーディングの基礎"
      ]
    },
    {
      "cell_type": "markdown",
      "metadata": {
        "id": "9Gv-WY6COFl2"
      },
      "source": [
        "## 変数の宣言\n",
        "（変数名）=（変数の値）で定義"
      ]
    },
    {
      "cell_type": "code",
      "execution_count": 1,
      "metadata": {
        "id": "hWbIiEjUNqrs"
      },
      "outputs": [],
      "source": [
        "a = 1                             # int型\n",
        "b = 1.0                           # float型\n",
        "c = 'ヒューマンインターフェイス'    # string型\n",
        "d = True                          # bool型"
      ]
    },
    {
      "cell_type": "markdown",
      "metadata": {
        "id": "iYrDY7qvPxuj"
      },
      "source": [
        "## print文\n",
        "決まった文章を出力可能  \n",
        " &rarr; プログラムの実行状態の把握などに使用"
      ]
    },
    {
      "cell_type": "code",
      "execution_count": 2,
      "metadata": {
        "id": "SQ3PeTGrP4kI"
      },
      "outputs": [
        {
          "name": "stdout",
          "output_type": "stream",
          "text": [
            "1\n",
            "bの値は 1.0 です\n",
            "私はヒューマンインターフェイス研究室所属です\n",
            "dの値はTrueです\n"
          ]
        }
      ],
      "source": [
        "print(a)\n",
        "print('bの値は', b, 'です')\n",
        "print('私は' + c + '研究室所属です')\n",
        "print(f'dの値は{d}です')"
      ]
    },
    {
      "cell_type": "markdown",
      "metadata": {
        "id": "S1jPk_JySgn_"
      },
      "source": [
        "## コメントアウト\n",
        "- シャープ（#）  \n",
        " &rarr; 直後の1文を無視\n",
        "- シングルクォーテーション（’） or ダブルクォーテーション（”）×3  \n",
        " &rarr; 囲まれた区間を無視"
      ]
    },
    {
      "cell_type": "code",
      "execution_count": 3,
      "metadata": {
        "id": "S5za0vbESjO8"
      },
      "outputs": [
        {
          "name": "stdout",
          "output_type": "stream",
          "text": [
            "1\n",
            "2\n"
          ]
        }
      ],
      "source": [
        "a = 1 # 1行限定のコメントアウト\n",
        "b = 2\n",
        "\n",
        "print(a)\n",
        "\"\"\"\n",
        "print('複数行のコメントアウト')\n",
        "\"\"\"\n",
        "print(b)"
      ]
    },
    {
      "cell_type": "markdown",
      "metadata": {
        "id": "czdoGvppWX3K"
      },
      "source": [
        "## 算術演算子\n",
        "四則演算などの算術的な計算に使用する記号"
      ]
    },
    {
      "cell_type": "code",
      "execution_count": 4,
      "metadata": {
        "id": "fq-eyHwKWXM3"
      },
      "outputs": [
        {
          "data": {
            "text/plain": [
              "13"
            ]
          },
          "execution_count": 4,
          "metadata": {},
          "output_type": "execute_result"
        }
      ],
      "source": [
        "10 + 3"
      ]
    },
    {
      "cell_type": "code",
      "execution_count": 5,
      "metadata": {
        "id": "WZVu5BVlWmTw"
      },
      "outputs": [
        {
          "data": {
            "text/plain": [
              "7"
            ]
          },
          "execution_count": 5,
          "metadata": {},
          "output_type": "execute_result"
        }
      ],
      "source": [
        "10 - 3"
      ]
    },
    {
      "cell_type": "code",
      "execution_count": 6,
      "metadata": {
        "id": "04Djh7cGWnyU"
      },
      "outputs": [
        {
          "data": {
            "text/plain": [
              "30"
            ]
          },
          "execution_count": 6,
          "metadata": {},
          "output_type": "execute_result"
        }
      ],
      "source": [
        "10 * 3"
      ]
    },
    {
      "cell_type": "code",
      "execution_count": 7,
      "metadata": {
        "id": "8bnErMmEWpRQ"
      },
      "outputs": [
        {
          "data": {
            "text/plain": [
              "3.3333333333333335"
            ]
          },
          "execution_count": 7,
          "metadata": {},
          "output_type": "execute_result"
        }
      ],
      "source": [
        "10 / 3"
      ]
    },
    {
      "cell_type": "code",
      "execution_count": 8,
      "metadata": {
        "id": "WkBImyMjWsDe"
      },
      "outputs": [
        {
          "data": {
            "text/plain": [
              "1"
            ]
          },
          "execution_count": 8,
          "metadata": {},
          "output_type": "execute_result"
        }
      ],
      "source": [
        "10 % 3"
      ]
    },
    {
      "cell_type": "code",
      "execution_count": 9,
      "metadata": {
        "id": "oU-JhYz8WubG"
      },
      "outputs": [
        {
          "data": {
            "text/plain": [
              "3"
            ]
          },
          "execution_count": 9,
          "metadata": {},
          "output_type": "execute_result"
        }
      ],
      "source": [
        "10 // 3"
      ]
    },
    {
      "cell_type": "markdown",
      "metadata": {
        "id": "eMoAmG0rge3y"
      },
      "source": [
        "## 比較演算子\n",
        "複数の値を比較するときに使用する記号"
      ]
    },
    {
      "cell_type": "code",
      "execution_count": 10,
      "metadata": {
        "id": "B8eMf2OKgfMK"
      },
      "outputs": [
        {
          "name": "stdout",
          "output_type": "stream",
          "text": [
            "True\n"
          ]
        }
      ],
      "source": [
        "print(10 == 10)"
      ]
    },
    {
      "cell_type": "code",
      "execution_count": 11,
      "metadata": {
        "id": "b2UYjanObSuS"
      },
      "outputs": [
        {
          "name": "stdout",
          "output_type": "stream",
          "text": [
            "False\n"
          ]
        }
      ],
      "source": [
        "print(10 != 10)"
      ]
    },
    {
      "cell_type": "code",
      "execution_count": 12,
      "metadata": {
        "id": "cAF8jDwPbT9l"
      },
      "outputs": [
        {
          "name": "stdout",
          "output_type": "stream",
          "text": [
            "False\n"
          ]
        }
      ],
      "source": [
        "print(10 > 10)"
      ]
    },
    {
      "cell_type": "code",
      "execution_count": 13,
      "metadata": {
        "id": "0EDvEGSjbVIz"
      },
      "outputs": [
        {
          "name": "stdout",
          "output_type": "stream",
          "text": [
            "True\n"
          ]
        }
      ],
      "source": [
        "print(10 >= 10)"
      ]
    },
    {
      "cell_type": "code",
      "execution_count": 14,
      "metadata": {
        "id": "yt1vty5QbWA9"
      },
      "outputs": [
        {
          "name": "stdout",
          "output_type": "stream",
          "text": [
            "False\n"
          ]
        }
      ],
      "source": [
        "print(10 < 10)"
      ]
    },
    {
      "cell_type": "code",
      "execution_count": 15,
      "metadata": {
        "id": "UZJZq7U_bXFi"
      },
      "outputs": [
        {
          "name": "stdout",
          "output_type": "stream",
          "text": [
            "True\n"
          ]
        }
      ],
      "source": [
        "print(10 <= 10)"
      ]
    },
    {
      "cell_type": "code",
      "execution_count": 16,
      "metadata": {
        "id": "bpkoHIYZbX-d"
      },
      "outputs": [
        {
          "name": "stdout",
          "output_type": "stream",
          "text": [
            "True\n"
          ]
        }
      ],
      "source": [
        "print(1 in [1, 2, 3, 4, 5])"
      ]
    },
    {
      "cell_type": "code",
      "execution_count": 17,
      "metadata": {
        "id": "SFIqyLUSbY7R"
      },
      "outputs": [
        {
          "name": "stdout",
          "output_type": "stream",
          "text": [
            "False\n"
          ]
        }
      ],
      "source": [
        "print(1 not in [1, 2, 3, 4, 5])"
      ]
    },
    {
      "cell_type": "markdown",
      "metadata": {
        "id": "qAMwGnlQP02_"
      },
      "source": [
        "## 論理演算子\n",
        "ブール型の変数を組み合わせた処理で使用する記号"
      ]
    },
    {
      "cell_type": "code",
      "execution_count": 18,
      "metadata": {
        "id": "E0aejRwoP1IV"
      },
      "outputs": [
        {
          "name": "stdout",
          "output_type": "stream",
          "text": [
            "True\n",
            "False\n",
            "False\n",
            "False\n"
          ]
        }
      ],
      "source": [
        "print(True and True)\n",
        "print(True and False)\n",
        "print(False and True)\n",
        "print(False and False)"
      ]
    },
    {
      "cell_type": "code",
      "execution_count": 19,
      "metadata": {
        "id": "gISC-3PzZgYG"
      },
      "outputs": [
        {
          "name": "stdout",
          "output_type": "stream",
          "text": [
            "True\n",
            "True\n",
            "True\n",
            "False\n"
          ]
        }
      ],
      "source": [
        "print(True or True)\n",
        "print(True or False)\n",
        "print(False or True)\n",
        "print(False or False)"
      ]
    },
    {
      "cell_type": "code",
      "execution_count": 20,
      "metadata": {
        "id": "SaN44Nl_ZqtC"
      },
      "outputs": [
        {
          "name": "stdout",
          "output_type": "stream",
          "text": [
            "False\n",
            "True\n"
          ]
        }
      ],
      "source": [
        "print(not True)\n",
        "print(not False)"
      ]
    },
    {
      "cell_type": "markdown",
      "metadata": {},
      "source": [
        "## リスト\n",
        "多数のデータを一括で扱うためのデータ型"
      ]
    },
    {
      "cell_type": "code",
      "execution_count": 21,
      "metadata": {},
      "outputs": [],
      "source": [
        "# --------------------\n",
        "# リストの宣言\n",
        "# --------------------\n",
        "number_list = [8, 3, 5, 9, 7, 4]\n",
        "\n",
        "# 型が混在してもOK\n",
        "price_list = ['pen', 150, 'eraser', 100, 'scissors', 500]\n",
        "\n",
        "\n",
        "# --------------------\n",
        "# 多次元リストの宣言\n",
        "# --------------------\n",
        "age_list = [['佐藤', 24],\n",
        "            ['鈴木', 28],\n",
        "            ['高橋', 25]]"
      ]
    },
    {
      "cell_type": "code",
      "execution_count": 22,
      "metadata": {},
      "outputs": [
        {
          "data": {
            "text/plain": [
              "5"
            ]
          },
          "execution_count": 22,
          "metadata": {},
          "output_type": "execute_result"
        }
      ],
      "source": [
        "number_list[2]"
      ]
    },
    {
      "cell_type": "code",
      "execution_count": 23,
      "metadata": {},
      "outputs": [
        {
          "data": {
            "text/plain": [
              "[3, 5, 9]"
            ]
          },
          "execution_count": 23,
          "metadata": {},
          "output_type": "execute_result"
        }
      ],
      "source": [
        "number_list[1:4]"
      ]
    },
    {
      "cell_type": "code",
      "execution_count": 24,
      "metadata": {},
      "outputs": [
        {
          "data": {
            "text/plain": [
              "6"
            ]
          },
          "execution_count": 24,
          "metadata": {},
          "output_type": "execute_result"
        }
      ],
      "source": [
        "len(number_list)"
      ]
    },
    {
      "cell_type": "code",
      "execution_count": 25,
      "metadata": {},
      "outputs": [
        {
          "data": {
            "text/plain": [
              "[8, 3, 5, 9, 6, 4]"
            ]
          },
          "execution_count": 25,
          "metadata": {},
          "output_type": "execute_result"
        }
      ],
      "source": [
        "number_list[4] = 6\n",
        "\n",
        "number_list"
      ]
    },
    {
      "cell_type": "code",
      "execution_count": 26,
      "metadata": {},
      "outputs": [
        {
          "data": {
            "text/plain": [
              "[8, 3, 5, 9, 6, 4, 1]"
            ]
          },
          "execution_count": 26,
          "metadata": {},
          "output_type": "execute_result"
        }
      ],
      "source": [
        "number_list.append(1)\n",
        "\n",
        "number_list"
      ]
    },
    {
      "cell_type": "markdown",
      "metadata": {},
      "source": [
        "## 辞書\n",
        "キー(key) と 値(value) を対応付けることができるデータ型"
      ]
    },
    {
      "cell_type": "code",
      "execution_count": 27,
      "metadata": {},
      "outputs": [],
      "source": [
        "age_dict = {'Jacob' : 26,\n",
        "            'Sophia' : 24,\n",
        "            'Charlie' : 31,\n",
        "            'William' : 29}"
      ]
    },
    {
      "cell_type": "code",
      "execution_count": 28,
      "metadata": {},
      "outputs": [
        {
          "data": {
            "text/plain": [
              "24"
            ]
          },
          "execution_count": 28,
          "metadata": {},
          "output_type": "execute_result"
        }
      ],
      "source": [
        "age_dict['Sophia']"
      ]
    },
    {
      "cell_type": "code",
      "execution_count": 29,
      "metadata": {},
      "outputs": [
        {
          "data": {
            "text/plain": [
              "{'Jacob': 26, 'Sophia': 24, 'Charlie': 31, 'William': 29, 'Harry': 30}"
            ]
          },
          "execution_count": 29,
          "metadata": {},
          "output_type": "execute_result"
        }
      ],
      "source": [
        "age_dict['Harry'] = 30\n",
        "\n",
        "age_dict"
      ]
    },
    {
      "cell_type": "markdown",
      "metadata": {},
      "source": [
        "## if文"
      ]
    },
    {
      "cell_type": "code",
      "execution_count": 30,
      "metadata": {},
      "outputs": [
        {
          "name": "stdout",
          "output_type": "stream",
          "text": [
            "変数numは正の数です\n"
          ]
        }
      ],
      "source": [
        "num = 5   # 任意の数\n",
        "\n",
        "if num > 0:\n",
        "  print('変数numは正の数です')\n",
        "elif num < 0:\n",
        "  print('変数numは負の数です')\n",
        "else:\n",
        "  print('変数numはゼロです')"
      ]
    },
    {
      "cell_type": "code",
      "execution_count": 31,
      "metadata": {},
      "outputs": [
        {
          "name": "stdout",
          "output_type": "stream",
          "text": [
            "要素6が[445, 95, 25, 6]に存在します\n"
          ]
        }
      ],
      "source": [
        "target = 6\n",
        "number_set = [445, 95, 25, 6]\n",
        "\n",
        "if target in number_set:\n",
        "  print(f'要素{target}が{number_set}に存在します')\n",
        "else:\n",
        "  print(f'要素{target}は{number_set}に存在しません')"
      ]
    },
    {
      "cell_type": "markdown",
      "metadata": {},
      "source": [
        "## for文"
      ]
    },
    {
      "cell_type": "code",
      "execution_count": 32,
      "metadata": {},
      "outputs": [
        {
          "name": "stdout",
          "output_type": "stream",
          "text": [
            "[0, 1, 2, 3, 4]\n"
          ]
        }
      ],
      "source": [
        "sequence = []\n",
        "\n",
        "for i in range(5):\n",
        "  sequence.append(i)\n",
        "\n",
        "print(sequence)"
      ]
    },
    {
      "cell_type": "code",
      "execution_count": 33,
      "metadata": {},
      "outputs": [
        {
          "name": "stdout",
          "output_type": "stream",
          "text": [
            "--- 名簿 ---\n",
            "000_佐藤\n",
            "001_鈴木\n",
            "002_高橋\n"
          ]
        }
      ],
      "source": [
        "name_list = ['佐藤', '鈴木', '高橋']\n",
        "\n",
        "print('--- 名簿 ---')\n",
        "\n",
        "for i, name in enumerate(name_list):\n",
        "  print(f'{i:03}_{name}')"
      ]
    },
    {
      "cell_type": "markdown",
      "metadata": {},
      "source": [
        "## while文"
      ]
    },
    {
      "cell_type": "code",
      "execution_count": 34,
      "metadata": {},
      "outputs": [
        {
          "name": "stdout",
          "output_type": "stream",
          "text": [
            "0\n",
            "1\n",
            "2\n"
          ]
        }
      ],
      "source": [
        "i = 0\n",
        "\n",
        "while i < 3:\n",
        "  print(i)\n",
        "  i += 1"
      ]
    },
    {
      "cell_type": "code",
      "execution_count": 35,
      "metadata": {},
      "outputs": [
        {
          "name": "stdout",
          "output_type": "stream",
          "text": [
            "1\n",
            "2\n",
            "4\n",
            "8\n",
            "16\n",
            "32\n",
            "64\n",
            "128\n",
            "iが100より大きくなりました\n"
          ]
        }
      ],
      "source": [
        "i = 1\n",
        "\n",
        "while True:\n",
        "  print(i)\n",
        "\n",
        "  if i > 100:\n",
        "    break\n",
        "  i *= 2\n",
        "\n",
        "print('iが100より大きくなりました')"
      ]
    }
  ],
  "metadata": {
    "colab": {
      "provenance": []
    },
    "kernelspec": {
      "display_name": "Python 3",
      "name": "python3"
    },
    "language_info": {
      "codemirror_mode": {
        "name": "ipython",
        "version": 3
      },
      "file_extension": ".py",
      "mimetype": "text/x-python",
      "name": "python",
      "nbconvert_exporter": "python",
      "pygments_lexer": "ipython3",
      "version": "3.10.10"
    }
  },
  "nbformat": 4,
  "nbformat_minor": 0
}
