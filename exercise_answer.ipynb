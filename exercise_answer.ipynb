{
  "cells": [
    {
      "cell_type": "markdown",
      "metadata": {
        "id": "YArJY3RetnJw"
      },
      "source": [
        "# 演習問題"
      ]
    },
    {
      "cell_type": "markdown",
      "metadata": {
        "id": "vV0VS9vhtyOK"
      },
      "source": [
        "## 問題1\n",
        "フィボナッチ数列の第10項までを生成するプログラムを書いてください．"
      ]
    },
    {
      "cell_type": "code",
      "execution_count": 1,
      "metadata": {
        "colab": {
          "base_uri": "https://localhost:8080/"
        },
        "id": "Y7A-L4XmtiAs",
        "outputId": "d9cb00e0-d893-4d3b-8b18-2eb188c58d34"
      },
      "outputs": [
        {
          "name": "stdout",
          "output_type": "stream",
          "text": [
            "[1, 1, 2, 3, 5, 8, 13, 21, 34, 55]\n"
          ]
        }
      ],
      "source": [
        "n = 10  # フィボナッチ数列の第何項まで出力するか\n",
        "\n",
        "fib_sequence = []  # フィボナッチ数列を保存するリスト\n",
        "a, b = 1, 1  # 第1項と第2項\n",
        "\n",
        "for _ in range(n):\n",
        "    fib_sequence.append(a)  # 変数aをリスト末尾に追加\n",
        "    a, b = b, a + b         # 変数の更新\n",
        "\n",
        "print(fib_sequence)"
      ]
    },
    {
      "cell_type": "markdown",
      "metadata": {
        "id": "BcI7vJ_2tzq1"
      },
      "source": [
        "## 問題2\n",
        "以下の条件を満たすような数当てゲームを作成してください．\n",
        "\n",
        "【条件】\n",
        "- 1から100までのランダムな整数を生成し，それを正解値とする  \n",
        "    > ```python\n",
        "    > import random\n",
        "    > \n",
        "    > target_number = random.randint(1, 100)  # 正解値を生成\n",
        "    > ```\n",
        "- 繰り返しループごとにユーザに数字を入力させ，それを予想値とする  \n",
        "    > ```python\n",
        "    > user_guess = int(input('予想した数字は？: '))\n",
        "    > ```\n",
        "- 予想値と正解値を比較し，大小をヒントとして出力する\n",
        "- 正解ならばそれを伝える文章の出力を行い，プログラムを終了する\n",
        "- 5試行で正解しなかった場合は，それを伝える文章と正解値を出力"
      ]
    },
    {
      "cell_type": "code",
      "execution_count": 2,
      "metadata": {
        "colab": {
          "base_uri": "https://localhost:8080/",
          "height": 482
        },
        "id": "95ufOwbMtp6p",
        "outputId": "23b0aa5f-c68d-48ff-8eb0-1f42ad2d7b2e"
      },
      "outputs": [
        {
          "name": "stdout",
          "output_type": "stream",
          "text": [
            "1から100までの整数を【5回以内に】当ててください．\n",
            "\n",
            "不正解！もっと小さな数です．\n",
            "\n",
            "不正解！もっと小さな数です．\n",
            "\n",
            "不正解！もっと大きな数です．\n",
            "\n",
            "正解！4回目で当たりました．\n"
          ]
        }
      ],
      "source": [
        "import random\n",
        "\n",
        "target_number = random.randint(1, 100)  # 正解値を生成\n",
        "attempts = 0      # 試行回数記録用の変数\n",
        "max_attempts = 5  # 最大試行回数\n",
        "\n",
        "print(f'1から100までの整数を【{max_attempts}回以内に】当ててください．\\n')\n",
        "\n",
        "while True:\n",
        "    attempts += 1\n",
        "    user_guess = int(input(f'（{attempts}回目）予想した数字は？: '))\n",
        "\n",
        "    if user_guess < target_number:\n",
        "        print('不正解！もっと大きな数です．\\n')\n",
        "    elif user_guess > target_number:\n",
        "        print('不正解！もっと小さな数です．\\n')\n",
        "    else:\n",
        "        print(f'正解！{attempts}回目で当たりました．')\n",
        "        break\n",
        "\n",
        "    if attempts >= max_attempts:\n",
        "        print(f'残念...{max_attempts}回の試行で正解を当てられませんでした．\\n'\n",
        "              f'正解は {target_number} でした．')\n",
        "        break"
      ]
    }
  ],
  "metadata": {
    "colab": {
      "provenance": []
    },
    "kernelspec": {
      "display_name": "Python 3",
      "name": "python3"
    },
    "language_info": {
      "codemirror_mode": {
        "name": "ipython",
        "version": 3
      },
      "file_extension": ".py",
      "mimetype": "text/x-python",
      "name": "python",
      "nbconvert_exporter": "python",
      "pygments_lexer": "ipython3",
      "version": "3.10.10"
    }
  },
  "nbformat": 4,
  "nbformat_minor": 0
}
